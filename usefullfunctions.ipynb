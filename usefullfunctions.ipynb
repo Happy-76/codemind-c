{
 "cells": [
  {
   "cell_type": "code",
   "execution_count": 4,
   "id": "956fdf24",
   "metadata": {},
   "outputs": [],
   "source": [
    "import tensorflow as tf"
   ]
  },
  {
   "cell_type": "code",
   "execution_count": 5,
   "id": "a172d4ce",
   "metadata": {},
   "outputs": [],
   "source": [
    "data_set=[21,22,34,56,43,-1,-45,56]"
   ]
  },
  {
   "cell_type": "code",
   "execution_count": 6,
   "id": "fb7aa151",
   "metadata": {},
   "outputs": [
    {
     "data": {
      "text/plain": [
       "<_TensorSliceDataset element_spec=TensorSpec(shape=(), dtype=tf.int32, name=None)>"
      ]
     },
     "execution_count": 6,
     "metadata": {},
     "output_type": "execute_result"
    }
   ],
   "source": [
    "tf_dataset=tf.data.Dataset.from_tensor_slices(data_set)\n",
    "tf_dataset"
   ]
  },
  {
   "cell_type": "code",
   "execution_count": 6,
   "id": "c5f65f0b",
   "metadata": {},
   "outputs": [
    {
     "name": "stdout",
     "output_type": "stream",
     "text": [
      "21\n",
      "22\n",
      "34\n",
      "56\n",
      "43\n",
      "-1\n",
      "-45\n",
      "56\n"
     ]
    }
   ],
   "source": [
    "for i in tf_dataset:\n",
    "    print(i.numpy())"
   ]
  },
  {
   "cell_type": "code",
   "execution_count": 9,
   "id": "877b3dcc",
   "metadata": {},
   "outputs": [
    {
     "name": "stdout",
     "output_type": "stream",
     "text": [
      "21\n",
      "22\n",
      "34\n",
      "56\n",
      "43\n"
     ]
    }
   ],
   "source": [
    "# take is the function used to consider only specified value of inputs among large number of data inputs\n",
    "for i in tf_dataset.take(5):\n",
    "    print(i.numpy())"
   ]
  },
  {
   "cell_type": "code",
   "execution_count": 12,
   "id": "e062bf4b",
   "metadata": {},
   "outputs": [],
   "source": [
    "# lamdba functions are used to manupulate every element in a dataset\n",
    "# filter is the function used to filter the dataset according to the specified condition \n",
    "tf_dataset= tf_dataset.filter(lambda x:x>0)"
   ]
  },
  {
   "cell_type": "code",
   "execution_count": 13,
   "id": "50f57acd",
   "metadata": {},
   "outputs": [
    {
     "name": "stdout",
     "output_type": "stream",
     "text": [
      "21\n",
      "22\n",
      "34\n",
      "56\n",
      "43\n",
      "56\n"
     ]
    }
   ],
   "source": [
    "for i in tf_dataset:\n",
    "    print(i.numpy())"
   ]
  },
  {
   "cell_type": "code",
   "execution_count": 14,
   "id": "484a56c8",
   "metadata": {},
   "outputs": [],
   "source": [
    "# map is the function applies a specified function to each of the element in a dataset\n",
    "tf_dataset = tf_dataset.map(lambda x:x*72)"
   ]
  },
  {
   "cell_type": "code",
   "execution_count": 15,
   "id": "2b7f4489",
   "metadata": {},
   "outputs": [
    {
     "name": "stdout",
     "output_type": "stream",
     "text": [
      "1512\n",
      "1584\n",
      "2448\n",
      "4032\n",
      "3096\n",
      "4032\n"
     ]
    }
   ],
   "source": [
    "for i in tf_dataset:\n",
    "    print(i.numpy())"
   ]
  },
  {
   "cell_type": "code",
   "execution_count": 21,
   "id": "787e4354",
   "metadata": {},
   "outputs": [],
   "source": [
    "# shuffle function used to shuffle the data elements in a dataset, funtion aslo accepts buffer \n",
    "tf_dataset = tf_dataset.shuffle(4)"
   ]
  },
  {
   "cell_type": "code",
   "execution_count": 22,
   "id": "0cfefbda",
   "metadata": {},
   "outputs": [
    {
     "name": "stdout",
     "output_type": "stream",
     "text": [
      "4032\n",
      "4032\n",
      "1512\n",
      "1584\n",
      "2448\n",
      "3096\n"
     ]
    }
   ],
   "source": [
    "for i in tf_dataset:\n",
    "    print(i.numpy())"
   ]
  },
  {
   "cell_type": "code",
   "execution_count": 25,
   "id": "fc3a4815",
   "metadata": {},
   "outputs": [
    {
     "name": "stdout",
     "output_type": "stream",
     "text": [
      "[4032 4032 1512 3096]\n",
      "[1584 2448]\n"
     ]
    }
   ],
   "source": [
    "# batch is the function used to create batches from the dataset\n",
    "for i in tf_dataset.batch(4):\n",
    "    print(i.numpy())"
   ]
  },
  {
   "cell_type": "code",
   "execution_count": 33,
   "id": "16131da8",
   "metadata": {},
   "outputs": [],
   "source": [
    "# we can chain the functions and can write in one line\n",
    "one_set = [23,34,56,65,43,21,34,-23,-43,-1,1,-70,-22,-23,24,25]\n",
    "dataset = tf.data.Dataset.from_tensor_slices(one_set)\n",
    "dataset = dataset.filter(lambda x:x>0).map(lambda y:y*72).shuffle(4)"
   ]
  },
  {
   "cell_type": "code",
   "execution_count": 34,
   "id": "69528a0a",
   "metadata": {},
   "outputs": [
    {
     "name": "stdout",
     "output_type": "stream",
     "text": [
      "1656\n",
      "3096\n",
      "1512\n",
      "2448\n",
      "4032\n",
      "4680\n",
      "1800\n",
      "1728\n",
      "72\n",
      "2448\n"
     ]
    }
   ],
   "source": [
    "for j in dataset:\n",
    "    print(j.numpy())"
   ]
  },
  {
   "cell_type": "code",
   "execution_count": null,
   "id": "9dfb908f",
   "metadata": {},
   "outputs": [],
   "source": []
  }
 ],
 "metadata": {
  "kernelspec": {
   "display_name": "Python 3 (ipykernel)",
   "language": "python",
   "name": "python3"
  },
  "language_info": {
   "codemirror_mode": {
    "name": "ipython",
    "version": 3
   },
   "file_extension": ".py",
   "mimetype": "text/x-python",
   "name": "python",
   "nbconvert_exporter": "python",
   "pygments_lexer": "ipython3",
   "version": "3.10.5"
  }
 },
 "nbformat": 4,
 "nbformat_minor": 5
}
